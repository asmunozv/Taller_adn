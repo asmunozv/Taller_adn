{
  "nbformat": 4,
  "nbformat_minor": 0,
  "metadata": {
    "colab": {
      "provenance": [],
      "authorship_tag": "ABX9TyPGV7bl5aRAnn0Sv3ZTLl7p",
      "include_colab_link": true
    },
    "kernelspec": {
      "name": "python3",
      "display_name": "Python 3"
    },
    "language_info": {
      "name": "python"
    }
  },
  "cells": [
    {
      "cell_type": "markdown",
      "metadata": {
        "id": "view-in-github",
        "colab_type": "text"
      },
      "source": [
        "<a href=\"https://colab.research.google.com/github/asmunozv/Taller_adn/blob/main/ADN.ipynb\" target=\"_parent\"><img src=\"https://colab.research.google.com/assets/colab-badge.svg\" alt=\"Open In Colab\"/></a>"
      ]
    },
    {
      "cell_type": "code",
      "source": [
        "def validate_dna():\n",
        "    dna_seq = input(\"Inserta secuencia de ADN: \")\n",
        "    seqm = dna_seq.upper()\n",
        "    valid = seqm.count(\"A\") + seqm.count(\"C\") + seqm.count(\"G\") + seqm.count(\"T\")\n",
        "    # Checks if DNA sequence is valid. Returns True is sequence is valid, or False otherwise. \"\n",
        "    if valid == len(seqm):\n",
        "        return True\n",
        "    else:\n",
        "        return False\n",
        "\n",
        "if validate_dna():\n",
        "    print(\"Secuencia válida.\")\n",
        "else:\n",
        "    print(\"Mutación\")"
      ],
      "metadata": {
        "colab": {
          "base_uri": "https://localhost:8080/"
        },
        "id": "n4gSUFJx2UvB",
        "outputId": "37093bd0-b54c-4fe9-d9e2-e0093cb7fcee"
      },
      "execution_count": 2,
      "outputs": [
        {
          "output_type": "stream",
          "name": "stdout",
          "text": [
            "Inserta secuencia de ADN: AAGGCCXT\n",
            "Mutación\n"
          ]
        }
      ]
    }
  ]
}